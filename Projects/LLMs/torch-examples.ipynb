{
 "cells": [
  {
   "cell_type": "markdown",
   "id": "7ccf0319",
   "metadata": {},
   "source": [
    "This demonstrates the different native torch functions and CPU time including:\n",
    "1. randint - create tensor of random numbers\n",
    "2. tensor - create a tensor based on lists of values\n",
    "3. zeros - create a tensor and fill it with zeros\n",
    "4. ones - create a tensor and fill it with ones\n",
    "5. empty - create a tensor but do not initialize the values within it\n",
    "6. arange - create a tensor based on the range of 0 to N by 1's\n",
    "7. linspace - create a tensor of equal spacing between values on the numeric scale\n",
    "8. logspace - create a tensor of equal spacing between values on the logarithm scale\n",
    "9. eye - create an identity matrix\n",
    "10. empty_like - create an empty tensor the same shape as another one\n",
    "11. Time numpy four-dimensional matrix multiplication\n",
    "12. multinomial - create a tensor based on the probability of selecting each index from a given set of indices\n",
    "13. cat - concatenation for tensors\n",
    "14. tril - lower triangle portion of the square matrix (below the diagonal)\n",
    "15. triu - upper triangle portion of the square matrix (above the diagonal)\n",
    "16. masked_fill - overwrites elements of a tensor where a condition is True\n",
    "17. exp - exponentiates all values in a tensor\n",
    "18. transpose - flip a tensor on the diagonal\n",
    "19. Linear - Creates a set of tensors with linear transformations applied (explanation on what defines the linear transformation given)\n",
    "20. Softmax - Creates a tensor that has a softmax function applied (explanation given on how that works)\n",
    "21. Embedding - create tensors that represent text using N dimensions\n",
    "22. Dot Product - matrix multiplication"
   ]
  },
  {
   "cell_type": "code",
   "execution_count": 1,
   "id": "0ab0f515",
   "metadata": {},
   "outputs": [],
   "source": [
    "import torch"
   ]
  },
  {
   "cell_type": "code",
   "execution_count": 4,
   "id": "4941d328",
   "metadata": {},
   "outputs": [
    {
     "name": "stdout",
     "output_type": "stream",
     "text": [
      "tensor([ 26, -11,  64,  -4,  -8,   8])\n"
     ]
    }
   ],
   "source": [
    "randint = torch.randint(-100,100,(6,))\n",
    "print(randint)"
   ]
  },
  {
   "cell_type": "code",
   "execution_count": 6,
   "id": "215095cf",
   "metadata": {},
   "outputs": [
    {
     "data": {
      "text/plain": [
       "tensor([[0.1000, 1.2000],\n",
       "        [2.2000, 3.1000],\n",
       "        [4.9000, 5.2000]])"
      ]
     },
     "execution_count": 6,
     "metadata": {},
     "output_type": "execute_result"
    }
   ],
   "source": [
    "tensor = torch.tensor([[0.1,1.2], [2.2,3.1],[4.9,5.2]])\n",
    "tensor"
   ]
  },
  {
   "cell_type": "code",
   "execution_count": 7,
   "id": "f2e2be6d",
   "metadata": {},
   "outputs": [
    {
     "data": {
      "text/plain": [
       "tensor([[0., 0., 0.],\n",
       "        [0., 0., 0.]])"
      ]
     },
     "execution_count": 7,
     "metadata": {},
     "output_type": "execute_result"
    }
   ],
   "source": [
    "zeros = torch.zeros(2,3)\n",
    "zeros"
   ]
  },
  {
   "cell_type": "code",
   "execution_count": 8,
   "id": "10fe7680",
   "metadata": {},
   "outputs": [
    {
     "data": {
      "text/plain": [
       "tensor([[1., 1., 1., 1.],\n",
       "        [1., 1., 1., 1.],\n",
       "        [1., 1., 1., 1.]])"
      ]
     },
     "execution_count": 8,
     "metadata": {},
     "output_type": "execute_result"
    }
   ],
   "source": [
    "ones = torch.ones(3,4)\n",
    "ones"
   ]
  },
  {
   "cell_type": "code",
   "execution_count": 9,
   "id": "3e426187",
   "metadata": {},
   "outputs": [
    {
     "data": {
      "text/plain": [
       "tensor([[0.0000e+00, 7.5670e-43, 2.1394e+23],\n",
       "        [1.0741e-05, 1.7266e-07, 2.1395e+23]])"
      ]
     },
     "execution_count": 9,
     "metadata": {},
     "output_type": "execute_result"
    }
   ],
   "source": [
    "input = torch.empty(2,3)\n",
    "input"
   ]
  },
  {
   "cell_type": "code",
   "execution_count": 11,
   "id": "f4aa9117",
   "metadata": {},
   "outputs": [
    {
     "data": {
      "text/plain": [
       "tensor([0, 1, 2, 3, 4])"
      ]
     },
     "execution_count": 11,
     "metadata": {},
     "output_type": "execute_result"
    }
   ],
   "source": [
    "arange = torch.arange(5) # sorted range 0 - N-1\n",
    "arange"
   ]
  },
  {
   "cell_type": "code",
   "execution_count": 13,
   "id": "6b074dda",
   "metadata": {},
   "outputs": [
    {
     "data": {
      "text/plain": [
       "tensor([ 3.0000,  4.7500,  6.5000,  8.2500, 10.0000])"
      ]
     },
     "execution_count": 13,
     "metadata": {},
     "output_type": "execute_result"
    }
   ],
   "source": [
    "linspace = torch.linspace(3,10,steps=5) # constant increments from 3 to 10\n",
    "linspace"
   ]
  },
  {
   "cell_type": "code",
   "execution_count": 14,
   "id": "c8b6cf9a",
   "metadata": {},
   "outputs": [
    {
     "data": {
      "text/plain": [
       "tensor([1.0000e-10, 1.0000e-05, 1.0000e+00, 1.0000e+05, 1.0000e+10])"
      ]
     },
     "execution_count": 14,
     "metadata": {},
     "output_type": "execute_result"
    }
   ],
   "source": [
    "logspace = torch.logspace(start=-10,end=10, steps=5)\n",
    "logspace"
   ]
  },
  {
   "cell_type": "code",
   "execution_count": 15,
   "id": "eb20bbca",
   "metadata": {},
   "outputs": [
    {
     "data": {
      "text/plain": [
       "tensor([[1., 0., 0., 0., 0.],\n",
       "        [0., 1., 0., 0., 0.],\n",
       "        [0., 0., 1., 0., 0.],\n",
       "        [0., 0., 0., 1., 0.],\n",
       "        [0., 0., 0., 0., 1.]])"
      ]
     },
     "execution_count": 15,
     "metadata": {},
     "output_type": "execute_result"
    }
   ],
   "source": [
    "eye = torch.eye(5) # Identity matrix of N x N\n",
    "eye"
   ]
  },
  {
   "cell_type": "code",
   "execution_count": 18,
   "id": "e2a6ad9d",
   "metadata": {},
   "outputs": [
    {
     "name": "stdout",
     "output_type": "stream",
     "text": [
      "tensor([[0, 0, 0],\n",
      "        [0, 0, 0]]) tensor([[0, 0, 0],\n",
      "        [0, 0, 0]])\n"
     ]
    }
   ],
   "source": [
    "a = torch.empty((2,3),dtype=torch.int64)\n",
    "empty_like = torch.empty_like(a)\n",
    "print(a, empty_like)"
   ]
  },
  {
   "cell_type": "code",
   "execution_count": 19,
   "id": "470c84c6",
   "metadata": {},
   "outputs": [
    {
     "name": "stdout",
     "output_type": "stream",
     "text": [
      "cpu\n"
     ]
    }
   ],
   "source": [
    "device = 'cuda' if torch.cuda.is_available() else 'cpu'\n",
    "print(device)"
   ]
  },
  {
   "cell_type": "code",
   "execution_count": null,
   "id": "6837c97a",
   "metadata": {},
   "outputs": [],
   "source": [
    "import time\n",
    "import numpy as np\n",
    "import torch\n",
    "\n",
    "np_rand1 = torch.rand(100,100,100,100)\n",
    "np_rand2 = torch.rand(100,100,100,100)"
   ]
  },
  {
   "cell_type": "code",
   "execution_count": 27,
   "id": "1f616ee1",
   "metadata": {},
   "outputs": [
    {
     "name": "stdout",
     "output_type": "stream",
     "text": [
      "CPU Times: How time the CPU was busy\n",
      "Wall time: How long it took the script to finish\n",
      "CPU - Wall Time = how long the CPU was busy elsewhere (i.e. I/O, sleep, etc.)\n",
      "0.17330551\n",
      "on a GPU, this takes 0.03 seconds\n",
      "CPU times: total: 188 ms\n",
      "Wall time: 173 ms\n"
     ]
    }
   ],
   "source": [
    "%%time\n",
    "print(\"CPU Times: How time the CPU was busy\")\n",
    "print(\"Wall time: How long it took the script to finish\")\n",
    "print(\"Wall - CPU Time = how long the script was busy outside of the CPU (i.e. I/O, sleep, etc.)\")\n",
    "\n",
    "start_time = time.time()\n",
    "\n",
    "rand = np.multiply(np_rand1,np_rand2)\n",
    "end_time =time.time()\n",
    "\n",
    "elapsed_time = end_time - start_time\n",
    "print(f\"{elapsed_time:.8f}\")\n",
    "print(\"on a GPU, this takes 0.03 seconds\")"
   ]
  },
  {
   "cell_type": "code",
   "execution_count": 39,
   "id": "2cc87be4",
   "metadata": {},
   "outputs": [
    {
     "name": "stdout",
     "output_type": "stream",
     "text": [
      "tensor([0.1000, 0.9000])\n",
      "tensor([1, 1, 1, 1, 1, 0, 1, 1, 1, 1])\n"
     ]
    }
   ],
   "source": [
    "\n",
    "\n",
    "probabilities = torch.tensor([0.1,0.9])\n",
    "print(probabilities)\n",
    "# 10% or 0.1 => 0, 90% of 0.9 => 1. Each probability points to the index of the probability in the tensor\n",
    "# There is a 10% chance of geting the 0 index and a 90% chance of getting the 1 index\n",
    "# Draw 5 samples from the multinomial distribution\n",
    "samples = torch.multinomial(probabilities, num_samples = 10, replacement= True)\n",
    "# multinomial with 10 samples assumes there are 10 events with a value from probabilities randomly chosen each time\n",
    "# this returns a vector of 10 where each value is the index of probabilities chosen for each event\n",
    "print(samples)"
   ]
  },
  {
   "cell_type": "code",
   "execution_count": 43,
   "id": "3415c18e",
   "metadata": {},
   "outputs": [
    {
     "data": {
      "text/plain": [
       "tensor([1, 2, 3, 4, 5, 6])"
      ]
     },
     "execution_count": 43,
     "metadata": {},
     "output_type": "execute_result"
    }
   ],
   "source": [
    "tensor = torch.tensor([1,2,3,4])\n",
    "out = torch.cat((tensor,torch.tensor([5,6])),dim=0) # extends the row of the tensor but does not add new rows\n",
    "out"
   ]
  },
  {
   "cell_type": "code",
   "execution_count": 44,
   "id": "1e26ac7b",
   "metadata": {},
   "outputs": [
    {
     "data": {
      "text/plain": [
       "tensor([[1., 0., 0., 0., 0.],\n",
       "        [1., 1., 0., 0., 0.],\n",
       "        [1., 1., 1., 0., 0.],\n",
       "        [1., 1., 1., 1., 0.],\n",
       "        [1., 1., 1., 1., 1.]])"
      ]
     },
     "execution_count": 44,
     "metadata": {},
     "output_type": "execute_result"
    }
   ],
   "source": [
    "out = torch.tril(torch.ones(5,5))\n",
    "out"
   ]
  },
  {
   "cell_type": "code",
   "execution_count": 45,
   "id": "f16ab9e9",
   "metadata": {},
   "outputs": [
    {
     "data": {
      "text/plain": [
       "tensor([[1., 1., 1., 1., 1.],\n",
       "        [0., 1., 1., 1., 1.],\n",
       "        [0., 0., 1., 1., 1.],\n",
       "        [0., 0., 0., 1., 1.],\n",
       "        [0., 0., 0., 0., 1.]])"
      ]
     },
     "execution_count": 45,
     "metadata": {},
     "output_type": "execute_result"
    }
   ],
   "source": [
    "out = torch.triu(torch.ones(5,5))\n",
    "out"
   ]
  },
  {
   "cell_type": "code",
   "execution_count": 56,
   "id": "24b38dbe",
   "metadata": {},
   "outputs": [
    {
     "data": {
      "text/plain": [
       "tensor([[1., -inf, -inf, -inf, -inf],\n",
       "        [1., 1., -inf, -inf, -inf],\n",
       "        [1., 1., 1., -inf, -inf],\n",
       "        [1., 1., 1., 1., -inf],\n",
       "        [1., 1., 1., 1., 1.]])"
      ]
     },
     "execution_count": 56,
     "metadata": {},
     "output_type": "execute_result"
    }
   ],
   "source": [
    "out = torch.ones(5,5).masked_fill(torch.tril(torch.ones(5,5))==0, float('-inf'))\n",
    "out"
   ]
  },
  {
   "cell_type": "code",
   "execution_count": 57,
   "id": "96b37aad",
   "metadata": {},
   "outputs": [
    {
     "data": {
      "text/plain": [
       "tensor([[2.7183, 0.0000, 0.0000, 0.0000, 0.0000],\n",
       "        [2.7183, 2.7183, 0.0000, 0.0000, 0.0000],\n",
       "        [2.7183, 2.7183, 2.7183, 0.0000, 0.0000],\n",
       "        [2.7183, 2.7183, 2.7183, 2.7183, 0.0000],\n",
       "        [2.7183, 2.7183, 2.7183, 2.7183, 2.7183]])"
      ]
     },
     "execution_count": 57,
     "metadata": {},
     "output_type": "execute_result"
    }
   ],
   "source": [
    "torch.exp(out)"
   ]
  },
  {
   "cell_type": "code",
   "execution_count": 59,
   "id": "6561aeda",
   "metadata": {},
   "outputs": [
    {
     "data": {
      "text/plain": [
       "(torch.Size([2, 3, 4]),\n",
       " tensor([[[0., 0.],\n",
       "          [0., 0.],\n",
       "          [0., 0.]],\n",
       " \n",
       "         [[0., 0.],\n",
       "          [0., 0.],\n",
       "          [0., 0.]],\n",
       " \n",
       "         [[0., 0.],\n",
       "          [0., 0.],\n",
       "          [0., 0.]],\n",
       " \n",
       "         [[0., 0.],\n",
       "          [0., 0.],\n",
       "          [0., 0.]]]),\n",
       " torch.Size([4, 3, 2]))"
      ]
     },
     "execution_count": 59,
     "metadata": {},
     "output_type": "execute_result"
    }
   ],
   "source": [
    "input = torch.zeros(2,3,4)\n",
    "out = input.transpose(0,2) # flip the 0th dimension and the 2nd dimension leaving the first dimension alone\n",
    "input.shape, out, out.shape"
   ]
  },
  {
   "cell_type": "code",
   "execution_count": 60,
   "id": "af2cfb35",
   "metadata": {},
   "outputs": [
    {
     "data": {
      "text/plain": [
       "tensor([[1, 2, 3],\n",
       "        [4, 5, 6],\n",
       "        [7, 8, 9]])"
      ]
     },
     "execution_count": 60,
     "metadata": {},
     "output_type": "execute_result"
    }
   ],
   "source": [
    "tensor1 = torch.tensor([1,2,3])\n",
    "tensor2 = torch.tensor([4,5,6])\n",
    "tensor3 = torch.tensor([7,8,9])\n",
    "\n",
    "stacked_tensor = torch.stack([tensor1,tensor2,tensor3]) # adds rows to the tensor but does not add new columns\n",
    "stacked_tensor"
   ]
  },
  {
   "cell_type": "code",
   "execution_count": 61,
   "id": "41e8a4a1",
   "metadata": {},
   "outputs": [
    {
     "name": "stdout",
     "output_type": "stream",
     "text": [
      "tensor([-2.5965,  2.0766,  2.4325], grad_fn=<SqueezeBackward4>)\n"
     ]
    }
   ],
   "source": [
    "import torch.nn as nn\n",
    "sample = torch.tensor([10.,10.,10.])\n",
    "linear = nn.Linear(3,3,bias=False)\n",
    "print(linear(sample))"
   ]
  },
  {
   "cell_type": "code",
   "execution_count": 72,
   "id": "981fd04f",
   "metadata": {},
   "outputs": [
    {
     "name": "stdout",
     "output_type": "stream",
     "text": [
      "The Bias being used is: torch.Size([30])\n",
      "The weights being used are: torch.Size([30, 20])\n",
      "Output shape: torch.Size([128, 30])\n"
     ]
    }
   ],
   "source": [
    "# y = mx + b\n",
    "# m and b are randomly auto-assigned when creating a Linear function unless given them directly\n",
    "\n",
    "l = nn.Linear(20,30) # really applies to \"mx + b\" inherently; this asks 20 x values to create a y value 30 times\n",
    "print(\"The Bias being used is:\", l.bias.shape) # one set of 30\n",
    "print(\"The weights being used are:\", l.weight.shape) # 30 sets of 20)\n",
    "x = torch.randn(128,20) # normal distribution with mean 0 and variance 1; this asks there to be 128 sets of 20\n",
    "y = l(sample) # 128 sets of 30; turns 128 sets of 20 x values into 128 sets of 30 y values\n",
    "print(\"Output shape:\", y.shape)"
   ]
  },
  {
   "cell_type": "code",
   "execution_count": 82,
   "id": "6bf716f0",
   "metadata": {},
   "outputs": [
    {
     "name": "stdout",
     "output_type": "stream",
     "text": [
      "tensor([0.0900, 0.2447, 0.6652])\n",
      "[2.718281828459045, 7.38905609893065, 20.085536923187668]\n",
      "30.19287485057736\n"
     ]
    },
    {
     "data": {
      "text/plain": [
       "[0.09003057317038046, 0.24472847105479767, 0.6652409557748219]"
      ]
     },
     "execution_count": 82,
     "metadata": {},
     "output_type": "execute_result"
    }
   ],
   "source": [
    "import torch.nn.functional as F\n",
    "\n",
    "tensor1 = torch.tensor([1.0,2.0,3.0])\n",
    "\n",
    "softmax_output = F.softmax(tensor1,dim=0)\n",
    "print(softmax_output)\n",
    "\n",
    "# SOFTMAX EXPLANATION\n",
    "\n",
    "# it exponentiates each value, sums them, and then divides each exponentiated value by the sum\n",
    "\n",
    "import math\n",
    "vals = [math.exp(1), math.exp(2), math.exp(3)]\n",
    "print(vals)\n",
    "s = math.exp(1) + math.exp(2) + math.exp(3)\n",
    "print(s)\n",
    "[x/s for x in vals]"
   ]
  },
  {
   "cell_type": "code",
   "execution_count": 92,
   "id": "088a590e",
   "metadata": {},
   "outputs": [
    {
     "name": "stdout",
     "output_type": "stream",
     "text": [
      "tensor([1, 5, 3, 2])\n",
      "torch.Size([4, 6])\n",
      "tensor([[ 1.0487,  0.1258,  0.8888,  0.0136, -1.8195,  1.1636],\n",
      "        [-1.8525,  0.4142, -0.0942,  0.9025,  0.5845,  0.3392],\n",
      "        [-1.0106, -0.8398, -1.7269, -0.2806, -1.4840,  0.1750],\n",
      "        [ 2.8686,  1.4562,  1.9240, -0.3590,  0.7977, -0.8873]],\n",
      "       grad_fn=<EmbeddingBackward0>)\n"
     ]
    }
   ],
   "source": [
    "# Initialize an embedding layer\n",
    "vocab_size = 80\n",
    "embedding_dim = 6\n",
    "embedding = nn.Embedding(vocab_size, embedding_dim)\n",
    "\n",
    "# Create some input indices\n",
    "input_indices = torch.LongTensor([1,5,3,2])\n",
    "print(input_indices)\n",
    "\n",
    "embedded_output = embedding(input_indices)\n",
    "\n",
    "print(embedded_output.shape)\n",
    "print(embedded_output)"
   ]
  },
  {
   "cell_type": "code",
   "execution_count": 93,
   "id": "25eca857",
   "metadata": {},
   "outputs": [
    {
     "name": "stdout",
     "output_type": "stream",
     "text": [
      "tensor([[ 27,  30,  33],\n",
      "        [ 61,  68,  75],\n",
      "        [ 95, 106, 117]])\n"
     ]
    },
    {
     "data": {
      "text/plain": [
       "tensor([[ 27,  30,  33],\n",
       "        [ 61,  68,  75],\n",
       "        [ 95, 106, 117]])"
      ]
     },
     "execution_count": 93,
     "metadata": {},
     "output_type": "execute_result"
    }
   ],
   "source": [
    "a = torch.tensor([[1,2],[3,4],[5,6]])\n",
    "b = torch.tensor([[7,8,9],[10,11,12]])\n",
    "\n",
    "print(a @ b) # dot product, same as torch.matmul(a,b)\n",
    "torch.matmul(a,b)"
   ]
  },
  {
   "cell_type": "code",
   "execution_count": null,
   "id": "1fb73ac5",
   "metadata": {},
   "outputs": [],
   "source": []
  }
 ],
 "metadata": {
  "kernelspec": {
   "display_name": "Python 3 (ipykernel)",
   "language": "python",
   "name": "python3"
  },
  "language_info": {
   "codemirror_mode": {
    "name": "ipython",
    "version": 3
   },
   "file_extension": ".py",
   "mimetype": "text/x-python",
   "name": "python",
   "nbconvert_exporter": "python",
   "pygments_lexer": "ipython3",
   "version": "3.11.4"
  }
 },
 "nbformat": 4,
 "nbformat_minor": 5
}
